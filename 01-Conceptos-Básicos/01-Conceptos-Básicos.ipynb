{
 "cells": [
  {
   "cell_type": "code",
   "execution_count": null,
   "metadata": {},
   "outputs": [],
   "source": [
    "# Declaración de variables\n",
    "numero = 10\n",
    "Numero = 20\n",
    "saludo = \"Hola Mundo !!!\"\n",
    "\n"
   ]
  },
  {
   "cell_type": "code",
   "execution_count": null,
   "metadata": {},
   "outputs": [],
   "source": [
    "#Mostramos el continido de las variables\n",
    "print(numero)\n",
    "print(Numero)    #diferencía entre mayúsculas y minúsculas\n",
    "print(saludo)\n",
    "\n",
    "print(numero + Numero)\n",
    "print(numero - 25)\n",
    "print(\"Saludo: \" + saludo)\n",
    "\n",
    "print(36)\n",
    "print(\"Saludos\")\n",
    "print(\"\")"
   ]
  },
  {
   "cell_type": "code",
   "execution_count": null,
   "metadata": {},
   "outputs": [],
   "source": [
    "#Mostramos el tipo de las variables\n",
    "print(type(numero))\n",
    "print(type(saludo))"
   ]
  },
  {
   "cell_type": "code",
   "execution_count": null,
   "metadata": {},
   "outputs": [],
   "source": [
    "#Mostramos el tipo de diferentes valores utilizando la funcion TYPE\n",
    "print(type(3))\n",
    "print(type(3.1))\n",
    "print(type(\"3\"))\n",
    "print(type(\"tres\"))\n",
    "print(type(3==3))\n",
    "print(type(('1','2','3')))\n",
    "print(type([\"1\",\"2\",\"3\"]))\n",
    "print(type({\"1\",\"2\",\"3\"}))\n",
    "print(type([1,2,3]))"
   ]
  }
 ],
 "metadata": {
  "kernelspec": {
   "display_name": "Python 3",
   "language": "python",
   "name": "python3"
  },
  "language_info": {
   "codemirror_mode": {
    "name": "ipython",
    "version": 3
   },
   "file_extension": ".py",
   "mimetype": "text/x-python",
   "name": "python",
   "nbconvert_exporter": "python",
   "pygments_lexer": "ipython3",
   "version": "3.11.2"
  },
  "orig_nbformat": 4,
  "vscode": {
   "interpreter": {
    "hash": "a701a0152de3b617f2163f02e1b7630c7524a00e0f6d47d6f25dab3ad84a4cc6"
   }
  }
 },
 "nbformat": 4,
 "nbformat_minor": 2
}
